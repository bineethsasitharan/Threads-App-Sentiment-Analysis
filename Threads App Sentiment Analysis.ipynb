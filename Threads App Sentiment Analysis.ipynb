{
 "cells": [
  {
   "cell_type": "markdown",
   "id": "8133aa45",
   "metadata": {},
   "source": [
    "#### Analysing Dataset"
   ]
  },
  {
   "cell_type": "code",
   "execution_count": 1,
   "id": "28e3cdb0",
   "metadata": {},
   "outputs": [],
   "source": [
    "# importing required libraries\n",
    "import pandas as pd\n",
    "import numpy as np\n",
    "import matplotlib.pyplot as plt\n",
    "import seaborn as sns\n",
    "%matplotlib inline\n",
    "\n",
    "import nltk\n",
    "from nltk.tokenize import word_tokenize\n",
    "from nltk.corpus import stopwords\n",
    "from nltk.stem.wordnet import WordNetLemmatizer\n",
    "from textblob import TextBlob\n",
    "\n",
    "import warnings\n",
    "warnings.filterwarnings('ignore')"
   ]
  },
  {
   "cell_type": "code",
   "execution_count": 2,
   "id": "322e9e6b",
   "metadata": {},
   "outputs": [
    {
     "data": {
      "text/html": [
       "<div>\n",
       "<style scoped>\n",
       "    .dataframe tbody tr th:only-of-type {\n",
       "        vertical-align: middle;\n",
       "    }\n",
       "\n",
       "    .dataframe tbody tr th {\n",
       "        vertical-align: top;\n",
       "    }\n",
       "\n",
       "    .dataframe thead th {\n",
       "        text-align: right;\n",
       "    }\n",
       "</style>\n",
       "<table border=\"1\" class=\"dataframe\">\n",
       "  <thead>\n",
       "    <tr style=\"text-align: right;\">\n",
       "      <th></th>\n",
       "      <th>Unnamed: 0</th>\n",
       "      <th>source</th>\n",
       "      <th>review_id</th>\n",
       "      <th>user_name</th>\n",
       "      <th>review_title</th>\n",
       "      <th>review_description</th>\n",
       "      <th>rating</th>\n",
       "      <th>thumbs_up</th>\n",
       "      <th>review_date</th>\n",
       "      <th>developer_response</th>\n",
       "      <th>developer_response_date</th>\n",
       "      <th>appVersion</th>\n",
       "      <th>laguage_code</th>\n",
       "      <th>country_code</th>\n",
       "    </tr>\n",
       "  </thead>\n",
       "  <tbody>\n",
       "    <tr>\n",
       "      <th>0</th>\n",
       "      <td>0</td>\n",
       "      <td>Google Play</td>\n",
       "      <td>7cd90e5b-4829-43b9-9fb4-c8c6d1e339c1</td>\n",
       "      <td>Eddie Clark Jr.</td>\n",
       "      <td>NaN</td>\n",
       "      <td>Good</td>\n",
       "      <td>5</td>\n",
       "      <td>0.0</td>\n",
       "      <td>2023-08-07 19:14:36</td>\n",
       "      <td>NaN</td>\n",
       "      <td>NaN</td>\n",
       "      <td>294.0.0.27.110</td>\n",
       "      <td>en</td>\n",
       "      <td>us</td>\n",
       "    </tr>\n",
       "    <tr>\n",
       "      <th>1</th>\n",
       "      <td>1</td>\n",
       "      <td>Google Play</td>\n",
       "      <td>6deb8265-2bac-4524-bcb6-f90829fa4e69</td>\n",
       "      <td>Rasa RT</td>\n",
       "      <td>NaN</td>\n",
       "      <td>Weak copy of Twitter</td>\n",
       "      <td>1</td>\n",
       "      <td>0.0</td>\n",
       "      <td>2023-08-07 19:07:04</td>\n",
       "      <td>NaN</td>\n",
       "      <td>NaN</td>\n",
       "      <td>NaN</td>\n",
       "      <td>en</td>\n",
       "      <td>us</td>\n",
       "    </tr>\n",
       "    <tr>\n",
       "      <th>2</th>\n",
       "      <td>2</td>\n",
       "      <td>Google Play</td>\n",
       "      <td>91ef61ce-0f05-4f3b-b3d3-5d19cd408ab8</td>\n",
       "      <td>SITI NUR HAFIZA BINTI AZIZ</td>\n",
       "      <td>NaN</td>\n",
       "      <td>i wish threads have a save button for images a...</td>\n",
       "      <td>3</td>\n",
       "      <td>0.0</td>\n",
       "      <td>2023-08-07 18:57:07</td>\n",
       "      <td>NaN</td>\n",
       "      <td>NaN</td>\n",
       "      <td>294.0.0.27.110</td>\n",
       "      <td>en</td>\n",
       "      <td>us</td>\n",
       "    </tr>\n",
       "    <tr>\n",
       "      <th>3</th>\n",
       "      <td>3</td>\n",
       "      <td>Google Play</td>\n",
       "      <td>b7721b78-6b77-4f8c-a1d3-a854af4c1f0f</td>\n",
       "      <td>Asap Khalifah</td>\n",
       "      <td>NaN</td>\n",
       "      <td>Love it</td>\n",
       "      <td>5</td>\n",
       "      <td>0.0</td>\n",
       "      <td>2023-08-07 18:37:16</td>\n",
       "      <td>NaN</td>\n",
       "      <td>NaN</td>\n",
       "      <td>NaN</td>\n",
       "      <td>en</td>\n",
       "      <td>us</td>\n",
       "    </tr>\n",
       "    <tr>\n",
       "      <th>4</th>\n",
       "      <td>4</td>\n",
       "      <td>Google Play</td>\n",
       "      <td>c89ef522-c94c-4171-878f-1d672dce7f11</td>\n",
       "      <td>Syed Hussein</td>\n",
       "      <td>NaN</td>\n",
       "      <td>Very god</td>\n",
       "      <td>5</td>\n",
       "      <td>0.0</td>\n",
       "      <td>2023-08-07 18:14:15</td>\n",
       "      <td>NaN</td>\n",
       "      <td>NaN</td>\n",
       "      <td>NaN</td>\n",
       "      <td>en</td>\n",
       "      <td>us</td>\n",
       "    </tr>\n",
       "  </tbody>\n",
       "</table>\n",
       "</div>"
      ],
      "text/plain": [
       "   Unnamed: 0       source                             review_id  \\\n",
       "0           0  Google Play  7cd90e5b-4829-43b9-9fb4-c8c6d1e339c1   \n",
       "1           1  Google Play  6deb8265-2bac-4524-bcb6-f90829fa4e69   \n",
       "2           2  Google Play  91ef61ce-0f05-4f3b-b3d3-5d19cd408ab8   \n",
       "3           3  Google Play  b7721b78-6b77-4f8c-a1d3-a854af4c1f0f   \n",
       "4           4  Google Play  c89ef522-c94c-4171-878f-1d672dce7f11   \n",
       "\n",
       "                    user_name review_title  \\\n",
       "0             Eddie Clark Jr.          NaN   \n",
       "1                     Rasa RT          NaN   \n",
       "2  SITI NUR HAFIZA BINTI AZIZ          NaN   \n",
       "3               Asap Khalifah          NaN   \n",
       "4                Syed Hussein          NaN   \n",
       "\n",
       "                                  review_description  rating  thumbs_up  \\\n",
       "0                                               Good       5        0.0   \n",
       "1                               Weak copy of Twitter       1        0.0   \n",
       "2  i wish threads have a save button for images a...       3        0.0   \n",
       "3                                            Love it       5        0.0   \n",
       "4                                           Very god       5        0.0   \n",
       "\n",
       "           review_date  developer_response  developer_response_date  \\\n",
       "0  2023-08-07 19:14:36                 NaN                      NaN   \n",
       "1  2023-08-07 19:07:04                 NaN                      NaN   \n",
       "2  2023-08-07 18:57:07                 NaN                      NaN   \n",
       "3  2023-08-07 18:37:16                 NaN                      NaN   \n",
       "4  2023-08-07 18:14:15                 NaN                      NaN   \n",
       "\n",
       "       appVersion laguage_code country_code  \n",
       "0  294.0.0.27.110           en           us  \n",
       "1             NaN           en           us  \n",
       "2  294.0.0.27.110           en           us  \n",
       "3             NaN           en           us  \n",
       "4             NaN           en           us  "
      ]
     },
     "execution_count": 2,
     "metadata": {},
     "output_type": "execute_result"
    }
   ],
   "source": [
    "# reading dataset\n",
    "df = pd.read_csv('reviews_of_threads_app.csv')\n",
    "df.head()"
   ]
  },
  {
   "cell_type": "code",
   "execution_count": 3,
   "id": "c1ed087b",
   "metadata": {},
   "outputs": [
    {
     "data": {
      "text/plain": [
       "(36943, 14)"
      ]
     },
     "execution_count": 3,
     "metadata": {},
     "output_type": "execute_result"
    }
   ],
   "source": [
    "# dataset shape\n",
    "df.shape"
   ]
  },
  {
   "cell_type": "code",
   "execution_count": 4,
   "id": "57017ca9",
   "metadata": {},
   "outputs": [
    {
     "name": "stdout",
     "output_type": "stream",
     "text": [
      "<class 'pandas.core.frame.DataFrame'>\n",
      "RangeIndex: 36943 entries, 0 to 36942\n",
      "Data columns (total 14 columns):\n",
      " #   Column                   Non-Null Count  Dtype  \n",
      "---  ------                   --------------  -----  \n",
      " 0   Unnamed: 0               36943 non-null  int64  \n",
      " 1   source                   36943 non-null  object \n",
      " 2   review_id                36943 non-null  object \n",
      " 3   user_name                36943 non-null  object \n",
      " 4   review_title             2000 non-null   object \n",
      " 5   review_description       36943 non-null  object \n",
      " 6   rating                   36943 non-null  int64  \n",
      " 7   thumbs_up                34943 non-null  float64\n",
      " 8   review_date              36943 non-null  object \n",
      " 9   developer_response       0 non-null      float64\n",
      " 10  developer_response_date  0 non-null      float64\n",
      " 11  appVersion               24855 non-null  object \n",
      " 12  laguage_code             36943 non-null  object \n",
      " 13  country_code             36943 non-null  object \n",
      "dtypes: float64(3), int64(2), object(9)\n",
      "memory usage: 3.9+ MB\n"
     ]
    }
   ],
   "source": [
    "# basic info\n",
    "df.info()"
   ]
  },
  {
   "cell_type": "code",
   "execution_count": 5,
   "id": "5bf564f1",
   "metadata": {},
   "outputs": [
    {
     "data": {
      "text/plain": [
       "5    17000\n",
       "1    11282\n",
       "4     3588\n",
       "3     2956\n",
       "2     2117\n",
       "Name: rating, dtype: int64"
      ]
     },
     "execution_count": 5,
     "metadata": {},
     "output_type": "execute_result"
    }
   ],
   "source": [
    "# ratings counts\n",
    "df['rating'].value_counts()"
   ]
  },
  {
   "cell_type": "code",
   "execution_count": 6,
   "id": "004d364f",
   "metadata": {},
   "outputs": [
    {
     "data": {
      "image/png": "[encoded data removed]",
      "text/plain": [
       "<Figure size 640x480 with 1 Axes>"
      ]
     },
     "metadata": {},
     "output_type": "display_data"
    }
   ],
   "source": [
    "sns.countplot(x= 'rating', data= df)\n",
    "plt.show()"
   ]
  },
  {
   "cell_type": "code",
   "execution_count": 7,
   "id": "52d51750",
   "metadata": {},
   "outputs": [
    {
     "data": {
      "text/plain": [
       "array(['294.0.0.27.110', nan, '293.0.0.30.110', '292.0.0.31.110',\n",
       "       '289.0.0.77.109', '291.0.0.31.111', '289.0.0.68.109',\n",
       "       '291.0.0.15.111'], dtype=object)"
      ]
     },
     "execution_count": 7,
     "metadata": {},
     "output_type": "execute_result"
    }
   ],
   "source": [
    "# app versions\n",
    "df['appVersion'].unique()"
   ]
  },
  {
   "cell_type": "code",
   "execution_count": 8,
   "id": "af563f02",
   "metadata": {},
   "outputs": [
    {
     "data": {
      "text/plain": [
       "us    36943\n",
       "Name: country_code, dtype: int64"
      ]
     },
     "execution_count": 8,
     "metadata": {},
     "output_type": "execute_result"
    }
   ],
   "source": [
    "# country \n",
    "df['country_code'].value_counts()"
   ]
  },
  {
   "cell_type": "code",
   "execution_count": 9,
   "id": "a35f54e7",
   "metadata": {},
   "outputs": [
    {
     "data": {
      "text/plain": [
       "0                                                     Good\n",
       "1                                     Weak copy of Twitter\n",
       "2        i wish threads have a save button for images a...\n",
       "3                                                  Love it\n",
       "4                                                 Very god\n",
       "                               ...                        \n",
       "36938    Threads have mediocre UX with 0 unique value p...\n",
       "36939                        Twitter (Instagram’s Version)\n",
       "36940                                                  😂😂😂\n",
       "36941    How do you expect a social media app to succee...\n",
       "36942                      Desperately needs new features.\n",
       "Name: review_description, Length: 36943, dtype: object"
      ]
     },
     "execution_count": 9,
     "metadata": {},
     "output_type": "execute_result"
    }
   ],
   "source": [
    "# app reviews\n",
    "df['review_description']"
   ]
  },
  {
   "cell_type": "markdown",
   "id": "76f4475e",
   "metadata": {},
   "source": [
    "#### Text Preprocessing"
   ]
  },
  {
   "cell_type": "code",
   "execution_count": 10,
   "id": "8874356b",
   "metadata": {},
   "outputs": [],
   "source": [
    "# reviews into separate dataset\n",
    "reviews = pd.DataFrame(df['review_description'])"
   ]
  },
  {
   "cell_type": "code",
   "execution_count": 11,
   "id": "71ff601b",
   "metadata": {},
   "outputs": [],
   "source": [
    "# stripping\n",
    "reviews['review_description'] = reviews['review_description'].str.strip()"
   ]
  },
  {
   "cell_type": "code",
   "execution_count": 12,
   "id": "53b792f4",
   "metadata": {},
   "outputs": [],
   "source": [
    "# converting to lowercase\n",
    "reviews['review_description'] = reviews['review_description'].str.lower()"
   ]
  },
  {
   "cell_type": "code",
   "execution_count": 13,
   "id": "8e0eccbe",
   "metadata": {},
   "outputs": [],
   "source": [
    "# removing punctutaions\n",
    "reviews['review_description'] = reviews['review_description'].str.replace('[^\\w\\s]','')"
   ]
  },
  {
   "cell_type": "code",
   "execution_count": 14,
   "id": "a0480bcb",
   "metadata": {},
   "outputs": [
    {
     "data": {
      "text/html": [
       "<div>\n",
       "<style scoped>\n",
       "    .dataframe tbody tr th:only-of-type {\n",
       "        vertical-align: middle;\n",
       "    }\n",
       "\n",
       "    .dataframe tbody tr th {\n",
       "        vertical-align: top;\n",
       "    }\n",
       "\n",
       "    .dataframe thead th {\n",
       "        text-align: right;\n",
       "    }\n",
       "</style>\n",
       "<table border=\"1\" class=\"dataframe\">\n",
       "  <thead>\n",
       "    <tr style=\"text-align: right;\">\n",
       "      <th></th>\n",
       "      <th>review_description</th>\n",
       "    </tr>\n",
       "  </thead>\n",
       "  <tbody>\n",
       "    <tr>\n",
       "      <th>0</th>\n",
       "      <td>good</td>\n",
       "    </tr>\n",
       "    <tr>\n",
       "      <th>1</th>\n",
       "      <td>weak copy of twitter</td>\n",
       "    </tr>\n",
       "    <tr>\n",
       "      <th>2</th>\n",
       "      <td>i wish threads have a save button for images a...</td>\n",
       "    </tr>\n",
       "    <tr>\n",
       "      <th>3</th>\n",
       "      <td>love it</td>\n",
       "    </tr>\n",
       "    <tr>\n",
       "      <th>4</th>\n",
       "      <td>very god</td>\n",
       "    </tr>\n",
       "    <tr>\n",
       "      <th>...</th>\n",
       "      <td>...</td>\n",
       "    </tr>\n",
       "    <tr>\n",
       "      <th>36938</th>\n",
       "      <td>threads have mediocre ux with 0 unique value p...</td>\n",
       "    </tr>\n",
       "    <tr>\n",
       "      <th>36939</th>\n",
       "      <td>twitter instagrams version</td>\n",
       "    </tr>\n",
       "    <tr>\n",
       "      <th>36940</th>\n",
       "      <td></td>\n",
       "    </tr>\n",
       "    <tr>\n",
       "      <th>36941</th>\n",
       "      <td>how do you expect a social media app to succee...</td>\n",
       "    </tr>\n",
       "    <tr>\n",
       "      <th>36942</th>\n",
       "      <td>desperately needs new features</td>\n",
       "    </tr>\n",
       "  </tbody>\n",
       "</table>\n",
       "<p>36943 rows × 1 columns</p>\n",
       "</div>"
      ],
      "text/plain": [
       "                                      review_description\n",
       "0                                                   good\n",
       "1                                   weak copy of twitter\n",
       "2      i wish threads have a save button for images a...\n",
       "3                                                love it\n",
       "4                                               very god\n",
       "...                                                  ...\n",
       "36938  threads have mediocre ux with 0 unique value p...\n",
       "36939                         twitter instagrams version\n",
       "36940                                                   \n",
       "36941  how do you expect a social media app to succee...\n",
       "36942                     desperately needs new features\n",
       "\n",
       "[36943 rows x 1 columns]"
      ]
     },
     "execution_count": 14,
     "metadata": {},
     "output_type": "execute_result"
    }
   ],
   "source": [
    "reviews"
   ]
  },
  {
   "cell_type": "code",
   "execution_count": 15,
   "id": "b974c7dc",
   "metadata": {},
   "outputs": [
    {
     "data": {
      "text/html": [
       "<div>\n",
       "<style scoped>\n",
       "    .dataframe tbody tr th:only-of-type {\n",
       "        vertical-align: middle;\n",
       "    }\n",
       "\n",
       "    .dataframe tbody tr th {\n",
       "        vertical-align: top;\n",
       "    }\n",
       "\n",
       "    .dataframe thead th {\n",
       "        text-align: right;\n",
       "    }\n",
       "</style>\n",
       "<table border=\"1\" class=\"dataframe\">\n",
       "  <thead>\n",
       "    <tr style=\"text-align: right;\">\n",
       "      <th></th>\n",
       "      <th>review_description</th>\n",
       "    </tr>\n",
       "  </thead>\n",
       "  <tbody>\n",
       "    <tr>\n",
       "      <th>0</th>\n",
       "      <td>[good]</td>\n",
       "    </tr>\n",
       "    <tr>\n",
       "      <th>1</th>\n",
       "      <td>[weak, copy, of, twitter]</td>\n",
       "    </tr>\n",
       "    <tr>\n",
       "      <th>2</th>\n",
       "      <td>[i, wish, threads, have, a, save, button, for,...</td>\n",
       "    </tr>\n",
       "    <tr>\n",
       "      <th>3</th>\n",
       "      <td>[love, it]</td>\n",
       "    </tr>\n",
       "    <tr>\n",
       "      <th>4</th>\n",
       "      <td>[very, god]</td>\n",
       "    </tr>\n",
       "    <tr>\n",
       "      <th>...</th>\n",
       "      <td>...</td>\n",
       "    </tr>\n",
       "    <tr>\n",
       "      <th>36938</th>\n",
       "      <td>[threads, have, mediocre, ux, with, 0, unique,...</td>\n",
       "    </tr>\n",
       "    <tr>\n",
       "      <th>36939</th>\n",
       "      <td>[twitter, instagrams, version]</td>\n",
       "    </tr>\n",
       "    <tr>\n",
       "      <th>36940</th>\n",
       "      <td>[]</td>\n",
       "    </tr>\n",
       "    <tr>\n",
       "      <th>36941</th>\n",
       "      <td>[how, do, you, expect, a, social, media, app, ...</td>\n",
       "    </tr>\n",
       "    <tr>\n",
       "      <th>36942</th>\n",
       "      <td>[desperately, needs, new, features]</td>\n",
       "    </tr>\n",
       "  </tbody>\n",
       "</table>\n",
       "<p>36943 rows × 1 columns</p>\n",
       "</div>"
      ],
      "text/plain": [
       "                                      review_description\n",
       "0                                                 [good]\n",
       "1                              [weak, copy, of, twitter]\n",
       "2      [i, wish, threads, have, a, save, button, for,...\n",
       "3                                             [love, it]\n",
       "4                                            [very, god]\n",
       "...                                                  ...\n",
       "36938  [threads, have, mediocre, ux, with, 0, unique,...\n",
       "36939                     [twitter, instagrams, version]\n",
       "36940                                                 []\n",
       "36941  [how, do, you, expect, a, social, media, app, ...\n",
       "36942                [desperately, needs, new, features]\n",
       "\n",
       "[36943 rows x 1 columns]"
      ]
     },
     "execution_count": 15,
     "metadata": {},
     "output_type": "execute_result"
    }
   ],
   "source": [
    "# tokenization\n",
    "reviews['review_description'] = reviews.apply(lambda row:\n",
    "                                                nltk.word_tokenize(row['review_description']), axis= 1)\n",
    "reviews"
   ]
  },
  {
   "cell_type": "code",
   "execution_count": 16,
   "id": "a67d4ea1",
   "metadata": {},
   "outputs": [
    {
     "data": {
      "text/html": [
       "<div>\n",
       "<style scoped>\n",
       "    .dataframe tbody tr th:only-of-type {\n",
       "        vertical-align: middle;\n",
       "    }\n",
       "\n",
       "    .dataframe tbody tr th {\n",
       "        vertical-align: top;\n",
       "    }\n",
       "\n",
       "    .dataframe thead th {\n",
       "        text-align: right;\n",
       "    }\n",
       "</style>\n",
       "<table border=\"1\" class=\"dataframe\">\n",
       "  <thead>\n",
       "    <tr style=\"text-align: right;\">\n",
       "      <th></th>\n",
       "      <th>review_description</th>\n",
       "    </tr>\n",
       "  </thead>\n",
       "  <tbody>\n",
       "    <tr>\n",
       "      <th>0</th>\n",
       "      <td>good</td>\n",
       "    </tr>\n",
       "    <tr>\n",
       "      <th>1</th>\n",
       "      <td>weak copy twitter</td>\n",
       "    </tr>\n",
       "    <tr>\n",
       "      <th>2</th>\n",
       "      <td>wish threads save button images videos would l...</td>\n",
       "    </tr>\n",
       "    <tr>\n",
       "      <th>3</th>\n",
       "      <td>love</td>\n",
       "    </tr>\n",
       "    <tr>\n",
       "      <th>4</th>\n",
       "      <td>god</td>\n",
       "    </tr>\n",
       "    <tr>\n",
       "      <th>...</th>\n",
       "      <td>...</td>\n",
       "    </tr>\n",
       "    <tr>\n",
       "      <th>36938</th>\n",
       "      <td>threads mediocre ux 0 unique value proposition...</td>\n",
       "    </tr>\n",
       "    <tr>\n",
       "      <th>36939</th>\n",
       "      <td>twitter instagrams version</td>\n",
       "    </tr>\n",
       "    <tr>\n",
       "      <th>36940</th>\n",
       "      <td></td>\n",
       "    </tr>\n",
       "    <tr>\n",
       "      <th>36941</th>\n",
       "      <td>expect social media app succeed search bar sea...</td>\n",
       "    </tr>\n",
       "    <tr>\n",
       "      <th>36942</th>\n",
       "      <td>desperately needs new features</td>\n",
       "    </tr>\n",
       "  </tbody>\n",
       "</table>\n",
       "<p>36943 rows × 1 columns</p>\n",
       "</div>"
      ],
      "text/plain": [
       "                                      review_description\n",
       "0                                                   good\n",
       "1                                      weak copy twitter\n",
       "2      wish threads save button images videos would l...\n",
       "3                                                   love\n",
       "4                                                    god\n",
       "...                                                  ...\n",
       "36938  threads mediocre ux 0 unique value proposition...\n",
       "36939                         twitter instagrams version\n",
       "36940                                                   \n",
       "36941  expect social media app succeed search bar sea...\n",
       "36942                     desperately needs new features\n",
       "\n",
       "[36943 rows x 1 columns]"
      ]
     },
     "execution_count": 16,
     "metadata": {},
     "output_type": "execute_result"
    }
   ],
   "source": [
    "# Removing stopwords\n",
    "reviews['review_description'] = reviews['review_description'].apply(lambda row: \n",
    "                                                ' '.join(word for word in row if word not in stopwords.words('english')))\n",
    "reviews"
   ]
  },
  {
   "cell_type": "markdown",
   "id": "9f94a7bd",
   "metadata": {},
   "source": [
    "#### Sentiment Analysis"
   ]
  },
  {
   "cell_type": "code",
   "execution_count": 17,
   "id": "32aeaaea",
   "metadata": {},
   "outputs": [],
   "source": [
    "# polarity finding function\n",
    "def polarity(text):\n",
    "    try:\n",
    "        return TextBlob(text).sentiment.polarity\n",
    "    except:\n",
    "        return None"
   ]
  },
  {
   "cell_type": "code",
   "execution_count": 18,
   "id": "17330725",
   "metadata": {},
   "outputs": [],
   "source": [
    "# sentiment tag function\n",
    "def tag(num):\n",
    "    if num<0:\n",
    "        return 'Negative'\n",
    "    \n",
    "    elif num>0:\n",
    "        return 'Positive'\n",
    "    \n",
    "    else:\n",
    "        return 'Neutral'"
   ]
  },
  {
   "cell_type": "code",
   "execution_count": 19,
   "id": "30819d7e",
   "metadata": {},
   "outputs": [],
   "source": [
    "reviews['polarity'] = reviews['review_description'].apply(polarity) # finding polarity of every reviews"
   ]
  },
  {
   "cell_type": "code",
   "execution_count": 20,
   "id": "be31fdc7",
   "metadata": {},
   "outputs": [],
   "source": [
    "reviews['tag'] = reviews['polarity'].apply(tag) # assigning sentiment tags"
   ]
  },
  {
   "cell_type": "code",
   "execution_count": 21,
   "id": "0d3f663f",
   "metadata": {},
   "outputs": [
    {
     "data": {
      "text/html": [
       "<div>\n",
       "<style scoped>\n",
       "    .dataframe tbody tr th:only-of-type {\n",
       "        vertical-align: middle;\n",
       "    }\n",
       "\n",
       "    .dataframe tbody tr th {\n",
       "        vertical-align: top;\n",
       "    }\n",
       "\n",
       "    .dataframe thead th {\n",
       "        text-align: right;\n",
       "    }\n",
       "</style>\n",
       "<table border=\"1\" class=\"dataframe\">\n",
       "  <thead>\n",
       "    <tr style=\"text-align: right;\">\n",
       "      <th></th>\n",
       "      <th>review_description</th>\n",
       "      <th>polarity</th>\n",
       "      <th>tag</th>\n",
       "    </tr>\n",
       "  </thead>\n",
       "  <tbody>\n",
       "    <tr>\n",
       "      <th>0</th>\n",
       "      <td>good</td>\n",
       "      <td>0.700000</td>\n",
       "      <td>Positive</td>\n",
       "    </tr>\n",
       "    <tr>\n",
       "      <th>1</th>\n",
       "      <td>weak copy twitter</td>\n",
       "      <td>-0.375000</td>\n",
       "      <td>Negative</td>\n",
       "    </tr>\n",
       "    <tr>\n",
       "      <th>2</th>\n",
       "      <td>wish threads save button images videos would l...</td>\n",
       "      <td>0.000000</td>\n",
       "      <td>Neutral</td>\n",
       "    </tr>\n",
       "    <tr>\n",
       "      <th>3</th>\n",
       "      <td>love</td>\n",
       "      <td>0.500000</td>\n",
       "      <td>Positive</td>\n",
       "    </tr>\n",
       "    <tr>\n",
       "      <th>4</th>\n",
       "      <td>god</td>\n",
       "      <td>0.000000</td>\n",
       "      <td>Neutral</td>\n",
       "    </tr>\n",
       "    <tr>\n",
       "      <th>...</th>\n",
       "      <td>...</td>\n",
       "      <td>...</td>\n",
       "      <td>...</td>\n",
       "    </tr>\n",
       "    <tr>\n",
       "      <th>36938</th>\n",
       "      <td>threads mediocre ux 0 unique value proposition...</td>\n",
       "      <td>0.158333</td>\n",
       "      <td>Positive</td>\n",
       "    </tr>\n",
       "    <tr>\n",
       "      <th>36939</th>\n",
       "      <td>twitter instagrams version</td>\n",
       "      <td>0.000000</td>\n",
       "      <td>Neutral</td>\n",
       "    </tr>\n",
       "    <tr>\n",
       "      <th>36940</th>\n",
       "      <td></td>\n",
       "      <td>0.000000</td>\n",
       "      <td>Neutral</td>\n",
       "    </tr>\n",
       "    <tr>\n",
       "      <th>36941</th>\n",
       "      <td>expect social media app succeed search bar sea...</td>\n",
       "      <td>0.033333</td>\n",
       "      <td>Positive</td>\n",
       "    </tr>\n",
       "    <tr>\n",
       "      <th>36942</th>\n",
       "      <td>desperately needs new features</td>\n",
       "      <td>-0.231818</td>\n",
       "      <td>Negative</td>\n",
       "    </tr>\n",
       "  </tbody>\n",
       "</table>\n",
       "<p>36943 rows × 3 columns</p>\n",
       "</div>"
      ],
      "text/plain": [
       "                                      review_description  polarity       tag\n",
       "0                                                   good  0.700000  Positive\n",
       "1                                      weak copy twitter -0.375000  Negative\n",
       "2      wish threads save button images videos would l...  0.000000   Neutral\n",
       "3                                                   love  0.500000  Positive\n",
       "4                                                    god  0.000000   Neutral\n",
       "...                                                  ...       ...       ...\n",
       "36938  threads mediocre ux 0 unique value proposition...  0.158333  Positive\n",
       "36939                         twitter instagrams version  0.000000   Neutral\n",
       "36940                                                     0.000000   Neutral\n",
       "36941  expect social media app succeed search bar sea...  0.033333  Positive\n",
       "36942                     desperately needs new features -0.231818  Negative\n",
       "\n",
       "[36943 rows x 3 columns]"
      ]
     },
     "execution_count": 21,
     "metadata": {},
     "output_type": "execute_result"
    }
   ],
   "source": [
    "reviews"
   ]
  },
  {
   "cell_type": "code",
   "execution_count": 22,
   "id": "0f31a975",
   "metadata": {},
   "outputs": [
    {
     "data": {
      "text/plain": [
       "Positive    19375\n",
       "Neutral     12794\n",
       "Negative     4774\n",
       "Name: tag, dtype: int64"
      ]
     },
     "execution_count": 22,
     "metadata": {},
     "output_type": "execute_result"
    }
   ],
   "source": [
    "# sentiment tag counts\n",
    "reviews['tag'].value_counts() "
   ]
  },
  {
   "cell_type": "code",
   "execution_count": 23,
   "id": "44f3c16f",
   "metadata": {
    "scrolled": true
   },
   "outputs": [
    {
     "data": {
      "text/plain": [
       "Positive    52.445660\n",
       "Neutral     34.631730\n",
       "Negative    12.922611\n",
       "Name: tag, dtype: float64"
      ]
     },
     "execution_count": 23,
     "metadata": {},
     "output_type": "execute_result"
    }
   ],
   "source": [
    "# sentiment tag percentage\n",
    "(reviews['tag'].value_counts()/reviews['tag'].size)*100"
   ]
  },
  {
   "cell_type": "code",
   "execution_count": 24,
   "id": "09a5129d",
   "metadata": {},
   "outputs": [
    {
     "data": {
      "image/png": "[encoded data removed]",
      "text/plain": [
       "<Figure size 640x480 with 1 Axes>"
      ]
     },
     "metadata": {},
     "output_type": "display_data"
    }
   ],
   "source": [
    "sns.countplot(x= 'tag', data= reviews)\n",
    "plt.xlabel('Sentiment')\n",
    "plt.ylabel('Number of Reviews')\n",
    "plt.title('Threads App Sentiment')\n",
    "plt.tight_layout()\n",
    "plt.show()"
   ]
  },
  {
   "cell_type": "markdown",
   "id": "72e4765c",
   "metadata": {},
   "source": [
    "#### Prediction Model Building"
   ]
  },
  {
   "cell_type": "code",
   "execution_count": 25,
   "id": "709ba9c5",
   "metadata": {},
   "outputs": [],
   "source": [
    "X = reviews.iloc[:,1].values # independent variable\n",
    "y = reviews.iloc[:,-1] # target variable"
   ]
  },
  {
   "cell_type": "code",
   "execution_count": 26,
   "id": "6b9e4cf7",
   "metadata": {},
   "outputs": [],
   "source": [
    "X = X.reshape(-1,1)"
   ]
  },
  {
   "cell_type": "code",
   "execution_count": 27,
   "id": "da944928",
   "metadata": {},
   "outputs": [],
   "source": [
    "# train set and test set split\n",
    "from sklearn.model_selection import train_test_split\n",
    "X_train, X_test, y_train, y_test = train_test_split(X, y, train_size= 0.8, random_state= 0)"
   ]
  },
  {
   "cell_type": "code",
   "execution_count": 28,
   "id": "83569707",
   "metadata": {},
   "outputs": [],
   "source": [
    "# building model\n",
    "from sklearn.ensemble import RandomForestClassifier\n",
    "rf = RandomForestClassifier()"
   ]
  },
  {
   "cell_type": "code",
   "execution_count": 29,
   "id": "10d57571",
   "metadata": {},
   "outputs": [
    {
     "data": {
      "text/html": [
       "<style>#sk-container-id-1 {color: black;background-color: white;}#sk-container-id-1 pre{padding: 0;}#sk-container-id-1 div.sk-toggleable {background-color: white;}#sk-container-id-1 label.sk-toggleable__label {cursor: pointer;display: block;width: 100%;margin-bottom: 0;padding: 0.3em;box-sizing: border-box;text-align: center;}#sk-container-id-1 label.sk-toggleable__label-arrow:before {content: \"▸\";float: left;margin-right: 0.25em;color: #696969;}#sk-container-id-1 label.sk-toggleable__label-arrow:hover:before {color: black;}#sk-container-id-1 div.sk-estimator:hover label.sk-toggleable__label-arrow:before {color: black;}#sk-container-id-1 div.sk-toggleable__content {max-height: 0;max-width: 0;overflow: hidden;text-align: left;background-color: #f0f8ff;}#sk-container-id-1 div.sk-toggleable__content pre {margin: 0.2em;color: black;border-radius: 0.25em;background-color: #f0f8ff;}#sk-container-id-1 input.sk-toggleable__control:checked~div.sk-toggleable__content {max-height: 200px;max-width: 100%;overflow: auto;}#sk-container-id-1 input.sk-toggleable__control:checked~label.sk-toggleable__label-arrow:before {content: \"▾\";}#sk-container-id-1 div.sk-estimator input.sk-toggleable__control:checked~label.sk-toggleable__label {background-color: #d4ebff;}#sk-container-id-1 div.sk-label input.sk-toggleable__control:checked~label.sk-toggleable__label {background-color: #d4ebff;}#sk-container-id-1 input.sk-hidden--visually {border: 0;clip: rect(1px 1px 1px 1px);clip: rect(1px, 1px, 1px, 1px);height: 1px;margin: -1px;overflow: hidden;padding: 0;position: absolute;width: 1px;}#sk-container-id-1 div.sk-estimator {font-family: monospace;background-color: #f0f8ff;border: 1px dotted black;border-radius: 0.25em;box-sizing: border-box;margin-bottom: 0.5em;}#sk-container-id-1 div.sk-estimator:hover {background-color: #d4ebff;}#sk-container-id-1 div.sk-parallel-item::after {content: \"\";width: 100%;border-bottom: 1px solid gray;flex-grow: 1;}#sk-container-id-1 div.sk-label:hover label.sk-toggleable__label {background-color: #d4ebff;}#sk-container-id-1 div.sk-serial::before {content: \"\";position: absolute;border-left: 1px solid gray;box-sizing: border-box;top: 0;bottom: 0;left: 50%;z-index: 0;}#sk-container-id-1 div.sk-serial {display: flex;flex-direction: column;align-items: center;background-color: white;padding-right: 0.2em;padding-left: 0.2em;position: relative;}#sk-container-id-1 div.sk-item {position: relative;z-index: 1;}#sk-container-id-1 div.sk-parallel {display: flex;align-items: stretch;justify-content: center;background-color: white;position: relative;}#sk-container-id-1 div.sk-item::before, #sk-container-id-1 div.sk-parallel-item::before {content: \"\";position: absolute;border-left: 1px solid gray;box-sizing: border-box;top: 0;bottom: 0;left: 50%;z-index: -1;}#sk-container-id-1 div.sk-parallel-item {display: flex;flex-direction: column;z-index: 1;position: relative;background-color: white;}#sk-container-id-1 div.sk-parallel-item:first-child::after {align-self: flex-end;width: 50%;}#sk-container-id-1 div.sk-parallel-item:last-child::after {align-self: flex-start;width: 50%;}#sk-container-id-1 div.sk-parallel-item:only-child::after {width: 0;}#sk-container-id-1 div.sk-dashed-wrapped {border: 1px dashed gray;margin: 0 0.4em 0.5em 0.4em;box-sizing: border-box;padding-bottom: 0.4em;background-color: white;}#sk-container-id-1 div.sk-label label {font-family: monospace;font-weight: bold;display: inline-block;line-height: 1.2em;}#sk-container-id-1 div.sk-label-container {text-align: center;}#sk-container-id-1 div.sk-container {/* jupyter's `normalize.less` sets `[hidden] { display: none; }` but bootstrap.min.css set `[hidden] { display: none !important; }` so we also need the `!important` here to be able to override the default hidden behavior on the sphinx rendered scikit-learn.org. See: https://github.com/scikit-learn/scikit-learn/issues/21755 */display: inline-block !important;position: relative;}#sk-container-id-1 div.sk-text-repr-fallback {display: none;}</style><div id=\"sk-container-id-1\" class=\"sk-top-container\"><div class=\"sk-text-repr-fallback\"><pre>RandomForestClassifier()</pre><b>In a Jupyter environment, please rerun this cell to show the HTML representation or trust the notebook. <br />On GitHub, the HTML representation is unable to render, please try loading this page with nbviewer.org.</b></div><div class=\"sk-container\" hidden><div class=\"sk-item\"><div class=\"sk-estimator sk-toggleable\"><input class=\"sk-toggleable__control sk-hidden--visually\" id=\"sk-estimator-id-1\" type=\"checkbox\" checked><label for=\"sk-estimator-id-1\" class=\"sk-toggleable__label sk-toggleable__label-arrow\">RandomForestClassifier</label><div class=\"sk-toggleable__content\"><pre>RandomForestClassifier()</pre></div></div></div></div></div>"
      ],
      "text/plain": [
       "RandomForestClassifier()"
      ]
     },
     "execution_count": 29,
     "metadata": {},
     "output_type": "execute_result"
    }
   ],
   "source": [
    "# training with train set\n",
    "rf.fit(X_train, y_train)"
   ]
  },
  {
   "cell_type": "code",
   "execution_count": 30,
   "id": "78d9ee91",
   "metadata": {},
   "outputs": [],
   "source": [
    "# predicting \n",
    "y_predict = rf.predict(X_test)"
   ]
  },
  {
   "cell_type": "code",
   "execution_count": 31,
   "id": "a6ede450",
   "metadata": {},
   "outputs": [
    {
     "name": "stdout",
     "output_type": "stream",
     "text": [
      "              precision    recall  f1-score   support\n",
      "\n",
      "    Negative       1.00      1.00      1.00       975\n",
      "     Neutral       1.00      1.00      1.00      2529\n",
      "    Positive       1.00      1.00      1.00      3885\n",
      "\n",
      "    accuracy                           1.00      7389\n",
      "   macro avg       1.00      1.00      1.00      7389\n",
      "weighted avg       1.00      1.00      1.00      7389\n",
      "\n"
     ]
    }
   ],
   "source": [
    "# evaluation metrics\n",
    "from sklearn.metrics import classification_report, confusion_matrix\n",
    "print(classification_report(y_test, y_predict)) # classification report"
   ]
  },
  {
   "cell_type": "code",
   "execution_count": 32,
   "id": "959ae5ee",
   "metadata": {},
   "outputs": [
    {
     "data": {
      "text/plain": [
       "array([[ 973,    2,    0],\n",
       "       [   0, 2529,    0],\n",
       "       [   0,    3, 3882]], dtype=int64)"
      ]
     },
     "execution_count": 32,
     "metadata": {},
     "output_type": "execute_result"
    }
   ],
   "source": [
    "confusion_matrix(y_test, y_predict) # confusion matrix"
   ]
  },
  {
   "cell_type": "markdown",
   "id": "0471e924",
   "metadata": {},
   "source": [
    "#### New Review Sentiment Prediction"
   ]
  },
  {
   "cell_type": "code",
   "execution_count": 44,
   "id": "5f286ad9",
   "metadata": {},
   "outputs": [],
   "source": [
    "# prediction function\n",
    "def predict_tag(review_input):\n",
    "    polar = polarity(review_input)\n",
    "    polar = np.array(polar).reshape(-1,1)\n",
    "    tag = rf.predict(polar)\n",
    "    \n",
    "    return tag"
   ]
  },
  {
   "cell_type": "code",
   "execution_count": 47,
   "id": "666fb8a4",
   "metadata": {},
   "outputs": [
    {
     "name": "stdout",
     "output_type": "stream",
     "text": [
      "not good as twitter\n"
     ]
    }
   ],
   "source": [
    "# getting input \n",
    "review_input = str(input())"
   ]
  },
  {
   "cell_type": "code",
   "execution_count": 48,
   "id": "f84575a3",
   "metadata": {},
   "outputs": [
    {
     "name": "stdout",
     "output_type": "stream",
     "text": [
      "not good as twitter : ['Negative']\n"
     ]
    }
   ],
   "source": [
    "# predicting the sentiment of given review\n",
    "prediction = predict_tag(review_input)\n",
    "print(f'{review_input} : {prediction}')"
   ]
  },
  {
   "cell_type": "code",
   "execution_count": null,
   "id": "3aa15f35",
   "metadata": {},
   "outputs": [],
   "source": []
  }
 ],
 "metadata": {
  "kernelspec": {
   "display_name": "Python 3 (ipykernel)",
   "language": "python",
   "name": "python3"
  },
  "language_info": {
   "codemirror_mode": {
    "name": "ipython",
    "version": 3
   },
   "file_extension": ".py",
   "mimetype": "text/x-python",
   "name": "python",
   "nbconvert_exporter": "python",
   "pygments_lexer": "ipython3",
   "version": "3.10.9"
  }
 },
 "nbformat": 4,
 "nbformat_minor": 5
}
